{
 "cells": [
  {
   "cell_type": "markdown",
   "source": [
    "## dependency"
   ],
   "metadata": {
    "collapsed": false
   }
  },
  {
   "cell_type": "code",
   "execution_count": 49,
   "outputs": [],
   "source": [
    "import numpy as np\n",
    "import math\n",
    "import plotly\n",
    "import plotly.graph_objs as go\n",
    "import seaborn as sns\n",
    "from matplotlib import pyplot as plt"
   ],
   "metadata": {
    "collapsed": false,
    "pycharm": {
     "name": "#%%\n"
    }
   }
  },
  {
   "cell_type": "markdown",
   "source": [
    "# 선형방정식(Linear Equations)"
   ],
   "metadata": {
    "collapsed": false
   }
  },
  {
   "cell_type": "markdown",
   "source": [
    "## 개념\n",
    "$$a_1x_1 + a_2x_2 + ... + a_nx_n = b$$\n",
    "\n",
    "다음과 같이 미지수의 차수가 1인($x^1 = x$) 일차식과 상수항($b$)으로 이루어진 방정식을 선형방정식이라고 한다."
   ],
   "metadata": {
    "collapsed": false
   }
  },
  {
   "cell_type": "markdown",
   "source": [
    "## 선형방정식인 것\n",
    "$$2x_1 - 3x_2 + 1 = x_1$$\n",
    "\n",
    "위 방정식은 정리하면 $x_1+3x=-1$ 꼴이므로 선형방정식이다.\n",
    "\n",
    "$$x_2=2(\\sqrt{5}-x_1)-x_3$$\n",
    "\n",
    "위 방정식은 정리하면 $2x_1+x_2+x_3=2\\sqrt{5}$ 꼴이므로 선형방정식이다.\n",
    "\n",
    "### 선형방정식이 아닌 것\n",
    "$$2x_1-3x_2=x_1x_2$$\n",
    "\n",
    "$2x_1-3x_2$의 일차결합이 상수항으로 표현되지 않아 선형방정식이 아님\n",
    "\n",
    "$$x_2 = 3\\sqrt{x_1}-1$$\n",
    "\n",
    "미지수의 차수가 $\\frac{1}{2}$이므로 선형방정식이 아님.\n",
    "\n",
    "$$x_1+\\sin x_2 = 0$$\n",
    "\n",
    "$\\sin$배는 linear하지 않기 때문에 선형방정식이 아님."
   ],
   "metadata": {
    "collapsed": false
   }
  },
  {
   "cell_type": "markdown",
   "source": [
    "### Sin 배의 그래프"
   ],
   "metadata": {
    "collapsed": false,
    "pycharm": {
     "name": "#%% md\n"
    }
   }
  },
  {
   "cell_type": "code",
   "execution_count": 32,
   "metadata": {
    "collapsed": true
   },
   "outputs": [
    {
     "data": {
      "application/vnd.plotly.v1+json": {
       "config": {
        "linkText": "Export to plot.ly",
        "plotlyServerURL": "https://plot.ly",
        "showLink": false
       },
       "data": [
        {
         "type": "scatter",
         "x": [
          0.0,
          0.05,
          0.1,
          0.15000000000000002,
          0.2,
          0.25,
          0.30000000000000004,
          0.35000000000000003,
          0.4,
          0.45,
          0.5,
          0.55,
          0.6000000000000001,
          0.65,
          0.7000000000000001,
          0.75,
          0.8,
          0.8500000000000001,
          0.9,
          0.9500000000000001,
          1.0,
          1.05,
          1.1,
          1.1500000000000001,
          1.2000000000000002,
          1.25,
          1.3,
          1.35,
          1.4000000000000001,
          1.4500000000000002,
          1.5,
          1.55,
          1.6,
          1.6500000000000001,
          1.7000000000000002,
          1.75,
          1.8,
          1.85,
          1.9000000000000001,
          1.9500000000000002,
          2.0,
          2.0500000000000003,
          2.1,
          2.15,
          2.2,
          2.25,
          2.3000000000000003,
          2.35,
          2.4000000000000004,
          2.45,
          2.5,
          2.5500000000000003,
          2.6,
          2.6500000000000004,
          2.7,
          2.75,
          2.8000000000000003,
          2.85,
          2.9000000000000004,
          2.95,
          3.0,
          3.0500000000000003,
          3.1,
          3.1500000000000004,
          3.2,
          3.25,
          3.3000000000000003,
          3.35,
          3.4000000000000004,
          3.45,
          3.5,
          3.5500000000000003,
          3.6,
          3.6500000000000004,
          3.7,
          3.75,
          3.8000000000000003,
          3.85,
          3.9000000000000004,
          3.95,
          4.0,
          4.05,
          4.1000000000000005,
          4.15,
          4.2,
          4.25,
          4.3,
          4.3500000000000005,
          4.4,
          4.45,
          4.5,
          4.55,
          4.6000000000000005,
          4.65,
          4.7,
          4.75,
          4.800000000000001,
          4.8500000000000005,
          4.9,
          4.95,
          5.0,
          5.050000000000001,
          5.1000000000000005,
          5.15,
          5.2,
          5.25,
          5.300000000000001,
          5.3500000000000005,
          5.4,
          5.45,
          5.5,
          5.550000000000001,
          5.6000000000000005,
          5.65,
          5.7,
          5.75,
          5.800000000000001,
          5.8500000000000005,
          5.9,
          5.95,
          6.0,
          6.050000000000001,
          6.1000000000000005,
          6.15,
          6.2,
          6.25
         ],
         "y": [
          0.0,
          0.09997916927067833,
          0.19983341664682816,
          0.2994381324735993,
          0.3986693307950612,
          0.49740395925452296,
          0.5955202066613396,
          0.6928978074554515,
          0.7894183423086505,
          0.8849655341112302,
          0.979425538604203,
          1.0726872289306593,
          1.1646424733950356,
          1.2551864057360396,
          1.3442176872376912,
          1.4316387600233342,
          1.517356090899523,
          1.601280405140293,
          1.6833269096274832,
          1.7634155047893738,
          1.8414709848078965,
          1.917423225594017,
          1.9912073600614355,
          2.0627639402605213,
          2.1320390859672265,
          2.198984619355586,
          2.263558185417193,
          2.325723357826659,
          2.3854497299884603,
          2.4427129910375887,
          2.4974949866040546,
          2.549783764189357,
          2.599573603041505,
          2.6468650284539192,
          2.691664810452469,
          2.733985946873937,
          2.773847630878195,
          2.8112752029753,
          2.8463000876874145,
          2.8789597150038695,
          2.909297426825682,
          2.9373623686333756,
          2.963209366648874,
          2.986898790798498,
          3.0084964038195903,
          3.028073196887921,
          3.0457052121767205,
          3.0614733527908444,
          3.075463180551151,
          3.087764702134504,
          3.0984721441039564,
          3.107683717391417,
          3.1155013718214644,
          3.1220305412898828,
          3.12737988023383,
          3.1316609920523315,
          3.134988150155905,
          3.1374780123425445,
          3.1392493292139823,
          3.140422647361027,
          3.1411200080598674,
          3.141464642232437,
          3.1415806624332907,
          3.1415927526328513,
          3.14162585657242,
          3.141804865469892,
          3.142254305856752,
          3.1430980283266003,
          3.144458897973169,
          3.1464584872915706,
          3.14921677231038,
          3.15285183271404,
          3.1574795567051477,
          3.1632133513443006,
          3.170163859091507,
          3.1784386812576564,
          3.188142109057281,
          3.1993748629348326,
          3.212233840816026,
          3.226811875913488,
          3.2431975046920716,
          3.261474745573805,
          3.28172288893559,
          3.304016298924554,
          3.328424227586412,
          3.3550106417714165,
          3.383834063250545,
          3.4149474224415513,
          3.4483979261104842,
          3.4842269393793615,
          3.522469882334903,
          3.5631561414967634,
          3.6063089963665362,
          3.6519455612411207,
          3.7000767424358996,
          3.750707211024622,
          3.80383539116416,
          3.8594534640332876,
          3.917547387375668,
          3.9780969305981793,
          4.041075725336862,
          4.106451331364094,
          4.1741853176722685,
          4.244233358531296,
          4.316545344279847,
          4.391065506573408,
          4.4677325577761,
          4.546479844147846,
          4.627235512444013,
          4.709922689511106,
          4.794459674429608,
          4.880760142723739,
          4.968733362127679,
          5.058284419368991,
          5.149314457402363,
          5.2417209225007415,
          5.335397820586244,
          5.430235982160141,
          5.526123335169764,
          5.622945185130259,
          5.720584501801074,
          5.81892221170061,
          5.917837495727905,
          6.0172080911474835,
          6.116910597182504,
          6.216820783452444
         ]
        }
       ],
       "layout": {
        "template": {
         "data": {
          "bar": [
           {
            "error_x": {
             "color": "#2a3f5f"
            },
            "error_y": {
             "color": "#2a3f5f"
            },
            "marker": {
             "line": {
              "color": "#E5ECF6",
              "width": 0.5
             },
             "pattern": {
              "fillmode": "overlay",
              "size": 10,
              "solidity": 0.2
             }
            },
            "type": "bar"
           }
          ],
          "barpolar": [
           {
            "marker": {
             "line": {
              "color": "#E5ECF6",
              "width": 0.5
             },
             "pattern": {
              "fillmode": "overlay",
              "size": 10,
              "solidity": 0.2
             }
            },
            "type": "barpolar"
           }
          ],
          "carpet": [
           {
            "aaxis": {
             "endlinecolor": "#2a3f5f",
             "gridcolor": "white",
             "linecolor": "white",
             "minorgridcolor": "white",
             "startlinecolor": "#2a3f5f"
            },
            "baxis": {
             "endlinecolor": "#2a3f5f",
             "gridcolor": "white",
             "linecolor": "white",
             "minorgridcolor": "white",
             "startlinecolor": "#2a3f5f"
            },
            "type": "carpet"
           }
          ],
          "choropleth": [
           {
            "colorbar": {
             "outlinewidth": 0,
             "ticks": ""
            },
            "type": "choropleth"
           }
          ],
          "contour": [
           {
            "colorbar": {
             "outlinewidth": 0,
             "ticks": ""
            },
            "colorscale": [
             [
              0.0,
              "#0d0887"
             ],
             [
              0.1111111111111111,
              "#46039f"
             ],
             [
              0.2222222222222222,
              "#7201a8"
             ],
             [
              0.3333333333333333,
              "#9c179e"
             ],
             [
              0.4444444444444444,
              "#bd3786"
             ],
             [
              0.5555555555555556,
              "#d8576b"
             ],
             [
              0.6666666666666666,
              "#ed7953"
             ],
             [
              0.7777777777777778,
              "#fb9f3a"
             ],
             [
              0.8888888888888888,
              "#fdca26"
             ],
             [
              1.0,
              "#f0f921"
             ]
            ],
            "type": "contour"
           }
          ],
          "contourcarpet": [
           {
            "colorbar": {
             "outlinewidth": 0,
             "ticks": ""
            },
            "type": "contourcarpet"
           }
          ],
          "heatmap": [
           {
            "colorbar": {
             "outlinewidth": 0,
             "ticks": ""
            },
            "colorscale": [
             [
              0.0,
              "#0d0887"
             ],
             [
              0.1111111111111111,
              "#46039f"
             ],
             [
              0.2222222222222222,
              "#7201a8"
             ],
             [
              0.3333333333333333,
              "#9c179e"
             ],
             [
              0.4444444444444444,
              "#bd3786"
             ],
             [
              0.5555555555555556,
              "#d8576b"
             ],
             [
              0.6666666666666666,
              "#ed7953"
             ],
             [
              0.7777777777777778,
              "#fb9f3a"
             ],
             [
              0.8888888888888888,
              "#fdca26"
             ],
             [
              1.0,
              "#f0f921"
             ]
            ],
            "type": "heatmap"
           }
          ],
          "heatmapgl": [
           {
            "colorbar": {
             "outlinewidth": 0,
             "ticks": ""
            },
            "colorscale": [
             [
              0.0,
              "#0d0887"
             ],
             [
              0.1111111111111111,
              "#46039f"
             ],
             [
              0.2222222222222222,
              "#7201a8"
             ],
             [
              0.3333333333333333,
              "#9c179e"
             ],
             [
              0.4444444444444444,
              "#bd3786"
             ],
             [
              0.5555555555555556,
              "#d8576b"
             ],
             [
              0.6666666666666666,
              "#ed7953"
             ],
             [
              0.7777777777777778,
              "#fb9f3a"
             ],
             [
              0.8888888888888888,
              "#fdca26"
             ],
             [
              1.0,
              "#f0f921"
             ]
            ],
            "type": "heatmapgl"
           }
          ],
          "histogram": [
           {
            "marker": {
             "pattern": {
              "fillmode": "overlay",
              "size": 10,
              "solidity": 0.2
             }
            },
            "type": "histogram"
           }
          ],
          "histogram2d": [
           {
            "colorbar": {
             "outlinewidth": 0,
             "ticks": ""
            },
            "colorscale": [
             [
              0.0,
              "#0d0887"
             ],
             [
              0.1111111111111111,
              "#46039f"
             ],
             [
              0.2222222222222222,
              "#7201a8"
             ],
             [
              0.3333333333333333,
              "#9c179e"
             ],
             [
              0.4444444444444444,
              "#bd3786"
             ],
             [
              0.5555555555555556,
              "#d8576b"
             ],
             [
              0.6666666666666666,
              "#ed7953"
             ],
             [
              0.7777777777777778,
              "#fb9f3a"
             ],
             [
              0.8888888888888888,
              "#fdca26"
             ],
             [
              1.0,
              "#f0f921"
             ]
            ],
            "type": "histogram2d"
           }
          ],
          "histogram2dcontour": [
           {
            "colorbar": {
             "outlinewidth": 0,
             "ticks": ""
            },
            "colorscale": [
             [
              0.0,
              "#0d0887"
             ],
             [
              0.1111111111111111,
              "#46039f"
             ],
             [
              0.2222222222222222,
              "#7201a8"
             ],
             [
              0.3333333333333333,
              "#9c179e"
             ],
             [
              0.4444444444444444,
              "#bd3786"
             ],
             [
              0.5555555555555556,
              "#d8576b"
             ],
             [
              0.6666666666666666,
              "#ed7953"
             ],
             [
              0.7777777777777778,
              "#fb9f3a"
             ],
             [
              0.8888888888888888,
              "#fdca26"
             ],
             [
              1.0,
              "#f0f921"
             ]
            ],
            "type": "histogram2dcontour"
           }
          ],
          "mesh3d": [
           {
            "colorbar": {
             "outlinewidth": 0,
             "ticks": ""
            },
            "type": "mesh3d"
           }
          ],
          "parcoords": [
           {
            "line": {
             "colorbar": {
              "outlinewidth": 0,
              "ticks": ""
             }
            },
            "type": "parcoords"
           }
          ],
          "pie": [
           {
            "automargin": true,
            "type": "pie"
           }
          ],
          "scatter": [
           {
            "marker": {
             "colorbar": {
              "outlinewidth": 0,
              "ticks": ""
             }
            },
            "type": "scatter"
           }
          ],
          "scatter3d": [
           {
            "line": {
             "colorbar": {
              "outlinewidth": 0,
              "ticks": ""
             }
            },
            "marker": {
             "colorbar": {
              "outlinewidth": 0,
              "ticks": ""
             }
            },
            "type": "scatter3d"
           }
          ],
          "scattercarpet": [
           {
            "marker": {
             "colorbar": {
              "outlinewidth": 0,
              "ticks": ""
             }
            },
            "type": "scattercarpet"
           }
          ],
          "scattergeo": [
           {
            "marker": {
             "colorbar": {
              "outlinewidth": 0,
              "ticks": ""
             }
            },
            "type": "scattergeo"
           }
          ],
          "scattergl": [
           {
            "marker": {
             "colorbar": {
              "outlinewidth": 0,
              "ticks": ""
             }
            },
            "type": "scattergl"
           }
          ],
          "scattermapbox": [
           {
            "marker": {
             "colorbar": {
              "outlinewidth": 0,
              "ticks": ""
             }
            },
            "type": "scattermapbox"
           }
          ],
          "scatterpolar": [
           {
            "marker": {
             "colorbar": {
              "outlinewidth": 0,
              "ticks": ""
             }
            },
            "type": "scatterpolar"
           }
          ],
          "scatterpolargl": [
           {
            "marker": {
             "colorbar": {
              "outlinewidth": 0,
              "ticks": ""
             }
            },
            "type": "scatterpolargl"
           }
          ],
          "scatterternary": [
           {
            "marker": {
             "colorbar": {
              "outlinewidth": 0,
              "ticks": ""
             }
            },
            "type": "scatterternary"
           }
          ],
          "surface": [
           {
            "colorbar": {
             "outlinewidth": 0,
             "ticks": ""
            },
            "colorscale": [
             [
              0.0,
              "#0d0887"
             ],
             [
              0.1111111111111111,
              "#46039f"
             ],
             [
              0.2222222222222222,
              "#7201a8"
             ],
             [
              0.3333333333333333,
              "#9c179e"
             ],
             [
              0.4444444444444444,
              "#bd3786"
             ],
             [
              0.5555555555555556,
              "#d8576b"
             ],
             [
              0.6666666666666666,
              "#ed7953"
             ],
             [
              0.7777777777777778,
              "#fb9f3a"
             ],
             [
              0.8888888888888888,
              "#fdca26"
             ],
             [
              1.0,
              "#f0f921"
             ]
            ],
            "type": "surface"
           }
          ],
          "table": [
           {
            "cells": {
             "fill": {
              "color": "#EBF0F8"
             },
             "line": {
              "color": "white"
             }
            },
            "header": {
             "fill": {
              "color": "#C8D4E3"
             },
             "line": {
              "color": "white"
             }
            },
            "type": "table"
           }
          ]
         },
         "layout": {
          "annotationdefaults": {
           "arrowcolor": "#2a3f5f",
           "arrowhead": 0,
           "arrowwidth": 1
          },
          "autotypenumbers": "strict",
          "coloraxis": {
           "colorbar": {
            "outlinewidth": 0,
            "ticks": ""
           }
          },
          "colorscale": {
           "diverging": [
            [
             0,
             "#8e0152"
            ],
            [
             0.1,
             "#c51b7d"
            ],
            [
             0.2,
             "#de77ae"
            ],
            [
             0.3,
             "#f1b6da"
            ],
            [
             0.4,
             "#fde0ef"
            ],
            [
             0.5,
             "#f7f7f7"
            ],
            [
             0.6,
             "#e6f5d0"
            ],
            [
             0.7,
             "#b8e186"
            ],
            [
             0.8,
             "#7fbc41"
            ],
            [
             0.9,
             "#4d9221"
            ],
            [
             1,
             "#276419"
            ]
           ],
           "sequential": [
            [
             0.0,
             "#0d0887"
            ],
            [
             0.1111111111111111,
             "#46039f"
            ],
            [
             0.2222222222222222,
             "#7201a8"
            ],
            [
             0.3333333333333333,
             "#9c179e"
            ],
            [
             0.4444444444444444,
             "#bd3786"
            ],
            [
             0.5555555555555556,
             "#d8576b"
            ],
            [
             0.6666666666666666,
             "#ed7953"
            ],
            [
             0.7777777777777778,
             "#fb9f3a"
            ],
            [
             0.8888888888888888,
             "#fdca26"
            ],
            [
             1.0,
             "#f0f921"
            ]
           ],
           "sequentialminus": [
            [
             0.0,
             "#0d0887"
            ],
            [
             0.1111111111111111,
             "#46039f"
            ],
            [
             0.2222222222222222,
             "#7201a8"
            ],
            [
             0.3333333333333333,
             "#9c179e"
            ],
            [
             0.4444444444444444,
             "#bd3786"
            ],
            [
             0.5555555555555556,
             "#d8576b"
            ],
            [
             0.6666666666666666,
             "#ed7953"
            ],
            [
             0.7777777777777778,
             "#fb9f3a"
            ],
            [
             0.8888888888888888,
             "#fdca26"
            ],
            [
             1.0,
             "#f0f921"
            ]
           ]
          },
          "colorway": [
           "#636efa",
           "#EF553B",
           "#00cc96",
           "#ab63fa",
           "#FFA15A",
           "#19d3f3",
           "#FF6692",
           "#B6E880",
           "#FF97FF",
           "#FECB52"
          ],
          "font": {
           "color": "#2a3f5f"
          },
          "geo": {
           "bgcolor": "white",
           "lakecolor": "white",
           "landcolor": "#E5ECF6",
           "showlakes": true,
           "showland": true,
           "subunitcolor": "white"
          },
          "hoverlabel": {
           "align": "left"
          },
          "hovermode": "closest",
          "mapbox": {
           "style": "light"
          },
          "paper_bgcolor": "white",
          "plot_bgcolor": "#E5ECF6",
          "polar": {
           "angularaxis": {
            "gridcolor": "white",
            "linecolor": "white",
            "ticks": ""
           },
           "bgcolor": "#E5ECF6",
           "radialaxis": {
            "gridcolor": "white",
            "linecolor": "white",
            "ticks": ""
           }
          },
          "scene": {
           "xaxis": {
            "backgroundcolor": "#E5ECF6",
            "gridcolor": "white",
            "gridwidth": 2,
            "linecolor": "white",
            "showbackground": true,
            "ticks": "",
            "zerolinecolor": "white"
           },
           "yaxis": {
            "backgroundcolor": "#E5ECF6",
            "gridcolor": "white",
            "gridwidth": 2,
            "linecolor": "white",
            "showbackground": true,
            "ticks": "",
            "zerolinecolor": "white"
           },
           "zaxis": {
            "backgroundcolor": "#E5ECF6",
            "gridcolor": "white",
            "gridwidth": 2,
            "linecolor": "white",
            "showbackground": true,
            "ticks": "",
            "zerolinecolor": "white"
           }
          },
          "shapedefaults": {
           "line": {
            "color": "#2a3f5f"
           }
          },
          "ternary": {
           "aaxis": {
            "gridcolor": "white",
            "linecolor": "white",
            "ticks": ""
           },
           "baxis": {
            "gridcolor": "white",
            "linecolor": "white",
            "ticks": ""
           },
           "bgcolor": "#E5ECF6",
           "caxis": {
            "gridcolor": "white",
            "linecolor": "white",
            "ticks": ""
           }
          },
          "title": {
           "x": 0.05
          },
          "xaxis": {
           "automargin": true,
           "gridcolor": "white",
           "linecolor": "white",
           "ticks": "",
           "title": {
            "standoff": 15
           },
           "zerolinecolor": "white",
           "zerolinewidth": 2
          },
          "yaxis": {
           "automargin": true,
           "gridcolor": "white",
           "linecolor": "white",
           "ticks": "",
           "title": {
            "standoff": 15
           },
           "zerolinecolor": "white",
           "zerolinewidth": 2
          }
         }
        },
        "title": {
         "text": "Sin wave"
        }
       }
      },
      "text/html": "<div>                            <div id=\"f4592823-9cff-42a8-86ed-07adadaecb24\" class=\"plotly-graph-div\" style=\"height:525px; width:100%;\"></div>            <script type=\"text/javascript\">                require([\"plotly\"], function(Plotly) {                    window.PLOTLYENV=window.PLOTLYENV || {};                                    if (document.getElementById(\"f4592823-9cff-42a8-86ed-07adadaecb24\")) {                    Plotly.newPlot(                        \"f4592823-9cff-42a8-86ed-07adadaecb24\",                        [{\"type\":\"scatter\",\"x\":[0.0,0.05,0.1,0.15000000000000002,0.2,0.25,0.30000000000000004,0.35000000000000003,0.4,0.45,0.5,0.55,0.6000000000000001,0.65,0.7000000000000001,0.75,0.8,0.8500000000000001,0.9,0.9500000000000001,1.0,1.05,1.1,1.1500000000000001,1.2000000000000002,1.25,1.3,1.35,1.4000000000000001,1.4500000000000002,1.5,1.55,1.6,1.6500000000000001,1.7000000000000002,1.75,1.8,1.85,1.9000000000000001,1.9500000000000002,2.0,2.0500000000000003,2.1,2.15,2.2,2.25,2.3000000000000003,2.35,2.4000000000000004,2.45,2.5,2.5500000000000003,2.6,2.6500000000000004,2.7,2.75,2.8000000000000003,2.85,2.9000000000000004,2.95,3.0,3.0500000000000003,3.1,3.1500000000000004,3.2,3.25,3.3000000000000003,3.35,3.4000000000000004,3.45,3.5,3.5500000000000003,3.6,3.6500000000000004,3.7,3.75,3.8000000000000003,3.85,3.9000000000000004,3.95,4.0,4.05,4.1000000000000005,4.15,4.2,4.25,4.3,4.3500000000000005,4.4,4.45,4.5,4.55,4.6000000000000005,4.65,4.7,4.75,4.800000000000001,4.8500000000000005,4.9,4.95,5.0,5.050000000000001,5.1000000000000005,5.15,5.2,5.25,5.300000000000001,5.3500000000000005,5.4,5.45,5.5,5.550000000000001,5.6000000000000005,5.65,5.7,5.75,5.800000000000001,5.8500000000000005,5.9,5.95,6.0,6.050000000000001,6.1000000000000005,6.15,6.2,6.25],\"y\":[0.0,0.09997916927067833,0.19983341664682816,0.2994381324735993,0.3986693307950612,0.49740395925452296,0.5955202066613396,0.6928978074554515,0.7894183423086505,0.8849655341112302,0.979425538604203,1.0726872289306593,1.1646424733950356,1.2551864057360396,1.3442176872376912,1.4316387600233342,1.517356090899523,1.601280405140293,1.6833269096274832,1.7634155047893738,1.8414709848078965,1.917423225594017,1.9912073600614355,2.0627639402605213,2.1320390859672265,2.198984619355586,2.263558185417193,2.325723357826659,2.3854497299884603,2.4427129910375887,2.4974949866040546,2.549783764189357,2.599573603041505,2.6468650284539192,2.691664810452469,2.733985946873937,2.773847630878195,2.8112752029753,2.8463000876874145,2.8789597150038695,2.909297426825682,2.9373623686333756,2.963209366648874,2.986898790798498,3.0084964038195903,3.028073196887921,3.0457052121767205,3.0614733527908444,3.075463180551151,3.087764702134504,3.0984721441039564,3.107683717391417,3.1155013718214644,3.1220305412898828,3.12737988023383,3.1316609920523315,3.134988150155905,3.1374780123425445,3.1392493292139823,3.140422647361027,3.1411200080598674,3.141464642232437,3.1415806624332907,3.1415927526328513,3.14162585657242,3.141804865469892,3.142254305856752,3.1430980283266003,3.144458897973169,3.1464584872915706,3.14921677231038,3.15285183271404,3.1574795567051477,3.1632133513443006,3.170163859091507,3.1784386812576564,3.188142109057281,3.1993748629348326,3.212233840816026,3.226811875913488,3.2431975046920716,3.261474745573805,3.28172288893559,3.304016298924554,3.328424227586412,3.3550106417714165,3.383834063250545,3.4149474224415513,3.4483979261104842,3.4842269393793615,3.522469882334903,3.5631561414967634,3.6063089963665362,3.6519455612411207,3.7000767424358996,3.750707211024622,3.80383539116416,3.8594534640332876,3.917547387375668,3.9780969305981793,4.041075725336862,4.106451331364094,4.1741853176722685,4.244233358531296,4.316545344279847,4.391065506573408,4.4677325577761,4.546479844147846,4.627235512444013,4.709922689511106,4.794459674429608,4.880760142723739,4.968733362127679,5.058284419368991,5.149314457402363,5.2417209225007415,5.335397820586244,5.430235982160141,5.526123335169764,5.622945185130259,5.720584501801074,5.81892221170061,5.917837495727905,6.0172080911474835,6.116910597182504,6.216820783452444]}],                        {\"template\":{\"data\":{\"bar\":[{\"error_x\":{\"color\":\"#2a3f5f\"},\"error_y\":{\"color\":\"#2a3f5f\"},\"marker\":{\"line\":{\"color\":\"#E5ECF6\",\"width\":0.5},\"pattern\":{\"fillmode\":\"overlay\",\"size\":10,\"solidity\":0.2}},\"type\":\"bar\"}],\"barpolar\":[{\"marker\":{\"line\":{\"color\":\"#E5ECF6\",\"width\":0.5},\"pattern\":{\"fillmode\":\"overlay\",\"size\":10,\"solidity\":0.2}},\"type\":\"barpolar\"}],\"carpet\":[{\"aaxis\":{\"endlinecolor\":\"#2a3f5f\",\"gridcolor\":\"white\",\"linecolor\":\"white\",\"minorgridcolor\":\"white\",\"startlinecolor\":\"#2a3f5f\"},\"baxis\":{\"endlinecolor\":\"#2a3f5f\",\"gridcolor\":\"white\",\"linecolor\":\"white\",\"minorgridcolor\":\"white\",\"startlinecolor\":\"#2a3f5f\"},\"type\":\"carpet\"}],\"choropleth\":[{\"colorbar\":{\"outlinewidth\":0,\"ticks\":\"\"},\"type\":\"choropleth\"}],\"contour\":[{\"colorbar\":{\"outlinewidth\":0,\"ticks\":\"\"},\"colorscale\":[[0.0,\"#0d0887\"],[0.1111111111111111,\"#46039f\"],[0.2222222222222222,\"#7201a8\"],[0.3333333333333333,\"#9c179e\"],[0.4444444444444444,\"#bd3786\"],[0.5555555555555556,\"#d8576b\"],[0.6666666666666666,\"#ed7953\"],[0.7777777777777778,\"#fb9f3a\"],[0.8888888888888888,\"#fdca26\"],[1.0,\"#f0f921\"]],\"type\":\"contour\"}],\"contourcarpet\":[{\"colorbar\":{\"outlinewidth\":0,\"ticks\":\"\"},\"type\":\"contourcarpet\"}],\"heatmap\":[{\"colorbar\":{\"outlinewidth\":0,\"ticks\":\"\"},\"colorscale\":[[0.0,\"#0d0887\"],[0.1111111111111111,\"#46039f\"],[0.2222222222222222,\"#7201a8\"],[0.3333333333333333,\"#9c179e\"],[0.4444444444444444,\"#bd3786\"],[0.5555555555555556,\"#d8576b\"],[0.6666666666666666,\"#ed7953\"],[0.7777777777777778,\"#fb9f3a\"],[0.8888888888888888,\"#fdca26\"],[1.0,\"#f0f921\"]],\"type\":\"heatmap\"}],\"heatmapgl\":[{\"colorbar\":{\"outlinewidth\":0,\"ticks\":\"\"},\"colorscale\":[[0.0,\"#0d0887\"],[0.1111111111111111,\"#46039f\"],[0.2222222222222222,\"#7201a8\"],[0.3333333333333333,\"#9c179e\"],[0.4444444444444444,\"#bd3786\"],[0.5555555555555556,\"#d8576b\"],[0.6666666666666666,\"#ed7953\"],[0.7777777777777778,\"#fb9f3a\"],[0.8888888888888888,\"#fdca26\"],[1.0,\"#f0f921\"]],\"type\":\"heatmapgl\"}],\"histogram\":[{\"marker\":{\"pattern\":{\"fillmode\":\"overlay\",\"size\":10,\"solidity\":0.2}},\"type\":\"histogram\"}],\"histogram2d\":[{\"colorbar\":{\"outlinewidth\":0,\"ticks\":\"\"},\"colorscale\":[[0.0,\"#0d0887\"],[0.1111111111111111,\"#46039f\"],[0.2222222222222222,\"#7201a8\"],[0.3333333333333333,\"#9c179e\"],[0.4444444444444444,\"#bd3786\"],[0.5555555555555556,\"#d8576b\"],[0.6666666666666666,\"#ed7953\"],[0.7777777777777778,\"#fb9f3a\"],[0.8888888888888888,\"#fdca26\"],[1.0,\"#f0f921\"]],\"type\":\"histogram2d\"}],\"histogram2dcontour\":[{\"colorbar\":{\"outlinewidth\":0,\"ticks\":\"\"},\"colorscale\":[[0.0,\"#0d0887\"],[0.1111111111111111,\"#46039f\"],[0.2222222222222222,\"#7201a8\"],[0.3333333333333333,\"#9c179e\"],[0.4444444444444444,\"#bd3786\"],[0.5555555555555556,\"#d8576b\"],[0.6666666666666666,\"#ed7953\"],[0.7777777777777778,\"#fb9f3a\"],[0.8888888888888888,\"#fdca26\"],[1.0,\"#f0f921\"]],\"type\":\"histogram2dcontour\"}],\"mesh3d\":[{\"colorbar\":{\"outlinewidth\":0,\"ticks\":\"\"},\"type\":\"mesh3d\"}],\"parcoords\":[{\"line\":{\"colorbar\":{\"outlinewidth\":0,\"ticks\":\"\"}},\"type\":\"parcoords\"}],\"pie\":[{\"automargin\":true,\"type\":\"pie\"}],\"scatter\":[{\"marker\":{\"colorbar\":{\"outlinewidth\":0,\"ticks\":\"\"}},\"type\":\"scatter\"}],\"scatter3d\":[{\"line\":{\"colorbar\":{\"outlinewidth\":0,\"ticks\":\"\"}},\"marker\":{\"colorbar\":{\"outlinewidth\":0,\"ticks\":\"\"}},\"type\":\"scatter3d\"}],\"scattercarpet\":[{\"marker\":{\"colorbar\":{\"outlinewidth\":0,\"ticks\":\"\"}},\"type\":\"scattercarpet\"}],\"scattergeo\":[{\"marker\":{\"colorbar\":{\"outlinewidth\":0,\"ticks\":\"\"}},\"type\":\"scattergeo\"}],\"scattergl\":[{\"marker\":{\"colorbar\":{\"outlinewidth\":0,\"ticks\":\"\"}},\"type\":\"scattergl\"}],\"scattermapbox\":[{\"marker\":{\"colorbar\":{\"outlinewidth\":0,\"ticks\":\"\"}},\"type\":\"scattermapbox\"}],\"scatterpolar\":[{\"marker\":{\"colorbar\":{\"outlinewidth\":0,\"ticks\":\"\"}},\"type\":\"scatterpolar\"}],\"scatterpolargl\":[{\"marker\":{\"colorbar\":{\"outlinewidth\":0,\"ticks\":\"\"}},\"type\":\"scatterpolargl\"}],\"scatterternary\":[{\"marker\":{\"colorbar\":{\"outlinewidth\":0,\"ticks\":\"\"}},\"type\":\"scatterternary\"}],\"surface\":[{\"colorbar\":{\"outlinewidth\":0,\"ticks\":\"\"},\"colorscale\":[[0.0,\"#0d0887\"],[0.1111111111111111,\"#46039f\"],[0.2222222222222222,\"#7201a8\"],[0.3333333333333333,\"#9c179e\"],[0.4444444444444444,\"#bd3786\"],[0.5555555555555556,\"#d8576b\"],[0.6666666666666666,\"#ed7953\"],[0.7777777777777778,\"#fb9f3a\"],[0.8888888888888888,\"#fdca26\"],[1.0,\"#f0f921\"]],\"type\":\"surface\"}],\"table\":[{\"cells\":{\"fill\":{\"color\":\"#EBF0F8\"},\"line\":{\"color\":\"white\"}},\"header\":{\"fill\":{\"color\":\"#C8D4E3\"},\"line\":{\"color\":\"white\"}},\"type\":\"table\"}]},\"layout\":{\"annotationdefaults\":{\"arrowcolor\":\"#2a3f5f\",\"arrowhead\":0,\"arrowwidth\":1},\"autotypenumbers\":\"strict\",\"coloraxis\":{\"colorbar\":{\"outlinewidth\":0,\"ticks\":\"\"}},\"colorscale\":{\"diverging\":[[0,\"#8e0152\"],[0.1,\"#c51b7d\"],[0.2,\"#de77ae\"],[0.3,\"#f1b6da\"],[0.4,\"#fde0ef\"],[0.5,\"#f7f7f7\"],[0.6,\"#e6f5d0\"],[0.7,\"#b8e186\"],[0.8,\"#7fbc41\"],[0.9,\"#4d9221\"],[1,\"#276419\"]],\"sequential\":[[0.0,\"#0d0887\"],[0.1111111111111111,\"#46039f\"],[0.2222222222222222,\"#7201a8\"],[0.3333333333333333,\"#9c179e\"],[0.4444444444444444,\"#bd3786\"],[0.5555555555555556,\"#d8576b\"],[0.6666666666666666,\"#ed7953\"],[0.7777777777777778,\"#fb9f3a\"],[0.8888888888888888,\"#fdca26\"],[1.0,\"#f0f921\"]],\"sequentialminus\":[[0.0,\"#0d0887\"],[0.1111111111111111,\"#46039f\"],[0.2222222222222222,\"#7201a8\"],[0.3333333333333333,\"#9c179e\"],[0.4444444444444444,\"#bd3786\"],[0.5555555555555556,\"#d8576b\"],[0.6666666666666666,\"#ed7953\"],[0.7777777777777778,\"#fb9f3a\"],[0.8888888888888888,\"#fdca26\"],[1.0,\"#f0f921\"]]},\"colorway\":[\"#636efa\",\"#EF553B\",\"#00cc96\",\"#ab63fa\",\"#FFA15A\",\"#19d3f3\",\"#FF6692\",\"#B6E880\",\"#FF97FF\",\"#FECB52\"],\"font\":{\"color\":\"#2a3f5f\"},\"geo\":{\"bgcolor\":\"white\",\"lakecolor\":\"white\",\"landcolor\":\"#E5ECF6\",\"showlakes\":true,\"showland\":true,\"subunitcolor\":\"white\"},\"hoverlabel\":{\"align\":\"left\"},\"hovermode\":\"closest\",\"mapbox\":{\"style\":\"light\"},\"paper_bgcolor\":\"white\",\"plot_bgcolor\":\"#E5ECF6\",\"polar\":{\"angularaxis\":{\"gridcolor\":\"white\",\"linecolor\":\"white\",\"ticks\":\"\"},\"bgcolor\":\"#E5ECF6\",\"radialaxis\":{\"gridcolor\":\"white\",\"linecolor\":\"white\",\"ticks\":\"\"}},\"scene\":{\"xaxis\":{\"backgroundcolor\":\"#E5ECF6\",\"gridcolor\":\"white\",\"gridwidth\":2,\"linecolor\":\"white\",\"showbackground\":true,\"ticks\":\"\",\"zerolinecolor\":\"white\"},\"yaxis\":{\"backgroundcolor\":\"#E5ECF6\",\"gridcolor\":\"white\",\"gridwidth\":2,\"linecolor\":\"white\",\"showbackground\":true,\"ticks\":\"\",\"zerolinecolor\":\"white\"},\"zaxis\":{\"backgroundcolor\":\"#E5ECF6\",\"gridcolor\":\"white\",\"gridwidth\":2,\"linecolor\":\"white\",\"showbackground\":true,\"ticks\":\"\",\"zerolinecolor\":\"white\"}},\"shapedefaults\":{\"line\":{\"color\":\"#2a3f5f\"}},\"ternary\":{\"aaxis\":{\"gridcolor\":\"white\",\"linecolor\":\"white\",\"ticks\":\"\"},\"baxis\":{\"gridcolor\":\"white\",\"linecolor\":\"white\",\"ticks\":\"\"},\"bgcolor\":\"#E5ECF6\",\"caxis\":{\"gridcolor\":\"white\",\"linecolor\":\"white\",\"ticks\":\"\"}},\"title\":{\"x\":0.05},\"xaxis\":{\"automargin\":true,\"gridcolor\":\"white\",\"linecolor\":\"white\",\"ticks\":\"\",\"title\":{\"standoff\":15},\"zerolinecolor\":\"white\",\"zerolinewidth\":2},\"yaxis\":{\"automargin\":true,\"gridcolor\":\"white\",\"linecolor\":\"white\",\"ticks\":\"\",\"title\":{\"standoff\":15},\"zerolinecolor\":\"white\",\"zerolinewidth\":2}}},\"title\":{\"text\":\"Sin wave\"}},                        {\"responsive\": true}                    ).then(function(){\n                            \nvar gd = document.getElementById('f4592823-9cff-42a8-86ed-07adadaecb24');\nvar x = new MutationObserver(function (mutations, observer) {{\n        var display = window.getComputedStyle(gd).display;\n        if (!display || display === 'none') {{\n            console.log([gd, 'removed!']);\n            Plotly.purge(gd);\n            observer.disconnect();\n        }}\n}});\n\n// Listen for the removal of the full notebook cells\nvar notebookContainer = gd.closest('#notebook-container');\nif (notebookContainer) {{\n    x.observe(notebookContainer, {childList: true});\n}}\n\n// Listen for the clearing of the current output cell\nvar outputEl = gd.closest('.output');\nif (outputEl) {{\n    x.observe(outputEl, {childList: true});\n}}\n\n                        })                };                });            </script>        </div>"
     },
     "metadata": {},
     "output_type": "display_data"
    }
   ],
   "source": [
    "#plotly. open in colab\n",
    "\n",
    "x = np.arange(0, math.pi*2, 0.05)\n",
    "x2 = np.arange(0, math.pi*2, 0.05)\n",
    "y = np.sin(x) + x2\n",
    "trace0 = go.Scatter(\n",
    "   x = x, y = y\n",
    ")\n",
    "\n",
    "trace0 = go.Scatter(x=x, y=y)\n",
    "data = [trace0]\n",
    "plotly.offline.iplot({ \"data\": data,\"layout\": go.Layout(title=\"Sin wave\")})"
   ]
  },
  {
   "cell_type": "code",
   "execution_count": 48,
   "outputs": [
    {
     "data": {
      "text/plain": "<Figure size 640x480 with 1 Axes>",
      "image/png": "[encoded data removed]"
     },
     "metadata": {},
     "output_type": "display_data"
    }
   ],
   "source": [
    "#seaborn\n",
    "\n",
    "sns.lineplot(data=(y));\n",
    "\n",
    "plt.xlabel('x value');\n",
    "plt.ylabel('y value');\n",
    "plt.title('sin graph with x_1');\n",
    "\n",
    "plt.show();"
   ],
   "metadata": {
    "collapsed": false,
    "pycharm": {
     "name": "#%%\n"
    }
   }
  },
  {
   "cell_type": "markdown",
   "source": [
    "# 선형연립방정식(system of linear equations)"
   ],
   "metadata": {
    "collapsed": false,
    "pycharm": {
     "name": "#%% md\n"
    }
   }
  },
  {
   "cell_type": "markdown",
   "source": [
    "## 개념\n",
    "$$a_{11}x_1 + a_{12}x_2 + ... + a_{1n}+x_n = b_1$$\n",
    "\n",
    "$$a_{21}x_1 + a_{22}x_2 + ... + a_{2n}+x_n = b_2$$\n",
    "\n",
    "$$...$$\n",
    "\n",
    "$$a_{m1}x_1 + a_{m2}x_2 + ... + a_{mn}+x_n = b_m$$\n",
    "\n",
    "다음과 같은 미지수 $x_1, x_2, ... , x_n$에 관한 유한개의 선형방정식의 모임을 선형연립방정식이라고 한다.\n",
    "\n",
    "만약, 위의 식에서 $b_1, b_2, ... b_m$이 모두 1인 경우, 동차선형연립방정식이라고 한다.\n",
    "## 해\n",
    "위의 식에서 $s_1, s_2, ... , s_n$을 각각 $x_1, x_2, ..., x_n$에 대입하였을 때 방정식이 모두 성립하면, 이를 선형방정식의 해라고 부르며, 해의 전체 집합을 해집합이라고 한다.\n",
    "이때, 두 선형연립방정식의 해집합이 같으면 두 선형연립방정식을 동치라고 한다.\n",
    "\n",
    "해가 존재하면 consistenct, 해가 존재하지 않으면 inconsistent라고 부른다.\n",
    "\n",
    "선형연립방정식에 대해 보통 세 가지중 하나가 성립한다.\n",
    "\n",
    "1. 유일한 해를 갖는 경우\n",
    "2. 해가 없는 경우\n",
    "3. 무수히 많은 해를 갖는 경우\n",
    "\n",
    "각 선형방정식으로 나타내어진 평면 $H_1$, $H_2$, $H_3$이 3차원 $R^3$ 공간에 있다고 가정해보자.\n",
    "\n",
    "그렇다면, 각 경우에 따라 다음과 같은 그림이 만들어진다.\n",
    "\n",
    "<img src=\"./static/img/linear/linear1.png\">\n",
    "\n",
    "세 점이 같이 모이는 공간이 하나의 점에만 생성된 경우, 선형연립방정식은 **유일한 해**를 가진다.\n",
    "\n",
    "<img src=\"./static/img/linear/linear2.png\">\n",
    "\n",
    "한편, 다음과 같이 세 평면의 점이 모두 만나지 않거나 세 평면중 두 평면만 만나는 점이 있을 경우, 선형연립방정식은 **해가 없다.**\n",
    "또한, 해당 선형연립방정식에 속한 선형방정식은 **inconsistent하다**.\n",
    "\n",
    "<img src=\"./static/img/linear/linear3.png\">\n",
    "\n",
    "마지막으로, 세 평면이 한 선에서 만나거나 서로 겹치는 경우, 해당 선형연립방정식은 **무수한 해**를 갖는다.\n",
    "\n",
    "## Machine Learning을 위해 선형연립방정식의 해를 배우는 이유\n",
    "\n",
    "Machine Learning에서 target값 $y$는 가중치 $w_n$와 미지수 $x_n$, 그리고 노이즈 $t$로 구성된 방정식이다.\n",
    "\n",
    "즉, 머신러닝은 $y=w_1x_1+w_1x_2+ ... +w_nx_n+t$ 같은 구조의 방정식이며, EDA는 $x_n$의 수를 늘려가는 과정이라고 볼 수 있다.\n",
    "\n",
    "그런데, 여기서 EDA를 통해 미지수를 늘리다보면 어느순간 데이터의 수보다 미지수의 숫자가 더 많아지는 경우가 생긴다.\n",
    "예를 들어, 다음과 같이 n개의 변수가 있는 회귀모델이 있다고 가정하자.\n",
    "\n",
    "$$x_1-2x_2+x_3+3x_4-x_5=0$$\n",
    "\n",
    "$$x_3-5x_4+2x_5=1$$\n",
    "\n",
    "$$x_4+x_5=2$$\n",
    "\n",
    "식은 세개인데, 미지수의 개수는 5개이므로 해를 구할 수 없다. 이를 차원의 저주라고 한다.\n",
    "이 경우, 미지수 2개에 임의의 실수 $t$,$s$등을 부여하여 다음과 같이 풀 수 있다. 이를 차원축소라고 한다.\n",
    "\n",
    "$$x_1+x_3+3x_4=x_5+2x_2$$\n",
    "\n",
    "$$x_3-5x_4=1-2x_5$$\n",
    "\n",
    "$$x_4=2-x_5$$\n",
    "\n",
    "여기서 $x_2=t, x_5=s$를 대입하면\n",
    "\n",
    "$$x_1+x_3+3x_4=2t+s$$\n",
    "\n",
    "$$x_3-5x_4=1-2s$$\n",
    "\n",
    "$$x_4=2-s$$\n",
    "\n",
    "로, 미지수의 개수(차원)가 $x_1, x_3, x_4$로 세개가 되어 식의 개수가 같아진다. 따라서 해당 연립방정식을 풀 수 있게 된다.\n",
    "\n",
    "이렇게 특정 미지수를 임의의 실수로 지정하여 미지수의 숫자를 줄이는 과정이 바로 머신러닝에서 차원축소라고 볼 수 있다."
   ],
   "metadata": {
    "collapsed": false,
    "pycharm": {
     "name": "#%% md\n"
    }
   }
  },
  {
   "cell_type": "markdown",
   "source": [
    "# Gauss 소거법\n",
    "\n",
    "$\\begin{cases}2x+3y=1 \\\\ x-2y = 4\\end{cases}$일 때, x에 2를 곱하여 y를 구한다.\n",
    "\n",
    "즉, $\\begin{cases}2x+3y=1 \\\\ 2x - 4y = 8\\end{cases}$로 구할 수 있으므로 윗변과 아랫변을 빼면\n",
    "$\\begin{cases}2x+3y=1 \\\\ -7y = 7\\end{cases}$로 $y=-1$임을 알 수 있다.\n",
    "\n",
    "이와 같이 *선형연립방정식의 해집합을 바꾸지 않는* 소거법을 Gauss 소거법이라고 한다.\n",
    "\n",
    "1. 두 식을 교환\n",
    "2. 한 식에 0이 아닌 실수를 곱함\n",
    "3. 한 식에 0이 아닌 실수배를 하여 다른 식에 곱함\n",
    "\n",
    "다음과 같은 과정으로 진행되는 것을 **기본행 연산**이라고 한다."
   ],
   "metadata": {
    "collapsed": false,
    "pycharm": {
     "name": "#%% md\n"
    }
   }
  },
  {
   "cell_type": "markdown",
   "source": [
    "## 행 사다리꼴\n",
    "\n",
    "행렬 $m \\times n = E$가 다음과 같은 조건을 만족할 때, 행렬 E를 행 사다리꼴(REF)이라고 한다.\n",
    "\n",
    "1. 만약 행의 성분이 모두 0인 행이 있다면 그 행은 가장 아래에 있다.\n",
    "2. 각 행에서 처음으로 나타나는 0이 아닌 성분은 1이다. 이를 행의 선행선분(leading entry)이라고 한다\n",
    "3. $i$행과 $i+1$행 모두에 선행선분이 존재하면 $i+1$의 선행선분은 $i$의 선행선분보다 오른쪽에 있다.\n",
    "\n",
    "위의 조건을 모두 만족시키면서 아래의 조건을 추가로 만족할 때 행렬 E를 기약 행 사다리꼴(RREF)이라고 한다.\n",
    "\n",
    "4. 어떤 행의 선행선분을 포함하는 열의 모든 성분은 0이다."
   ],
   "metadata": {
    "collapsed": false
   }
  },
  {
   "cell_type": "markdown",
   "source": [
    "### 행 사다리꼴(RDF)의 예시"
   ],
   "metadata": {
    "collapsed": false,
    "pycharm": {
     "name": "#%% md\n"
    }
   }
  },
  {
   "cell_type": "code",
   "execution_count": 84,
   "outputs": [
    {
     "name": "stdout",
     "output_type": "stream",
     "text": [
      "array A \n",
      "[[1 5 3 3]\n",
      " [0 1 2 7]\n",
      " [0 0 1 4]]\n",
      "\n",
      "array B \n",
      "[[1 4 5]\n",
      " [0 1 2]\n",
      " [0 0 1]]\n",
      "\n",
      "array C \n",
      "[[ 1 -1  3  4  2]\n",
      " [ 0  0  0  1  3]]\n",
      "\n",
      "array D \n",
      "[[0 0]\n",
      " [0 0]]\n"
     ]
    }
   ],
   "source": [
    "a = np.array([[1, 5, 3, 3], [0, 1, 2, 7], [0, 0, 1, 4]])\n",
    "b = np.array([[1, 4, 5], [0, 1, 2], [0, 0, 1]])\n",
    "c = np.array([[1, -1, 3, 4, 2], [0, 0, 0, 1, 3]])\n",
    "d = np.array([[0, 0], [0, 0]])\n",
    "\n",
    "print(f\"array A \\n{a}\\n\")\n",
    "print(f\"array B \\n{b}\\n\")\n",
    "print(f\"array C \\n{c}\\n\")\n",
    "print(f\"array D \\n{d}\")"
   ],
   "metadata": {
    "collapsed": false,
    "pycharm": {
     "name": "#%%\n"
    }
   }
  },
  {
   "cell_type": "markdown",
   "source": [
    "### 기약 행 사다리꼴(RRDF)의 예시"
   ],
   "metadata": {
    "collapsed": false
   }
  },
  {
   "cell_type": "code",
   "execution_count": 85,
   "outputs": [
    {
     "name": "stdout",
     "output_type": "stream",
     "text": [
      "array A \n",
      "[[1 0 0 3]\n",
      " [0 1 0 5]\n",
      " [0 0 1 2]]\n",
      "\n",
      "array B \n",
      "[[1 0 0]\n",
      " [0 1 0]\n",
      " [0 0 1]]\n",
      "\n",
      "array C \n",
      "[[0 0 0]\n",
      " [0 0 0]]\n",
      "\n",
      "array D \n",
      "[[ 1 -1  3  0  2]\n",
      " [ 0  0  0  1  3]\n",
      " [ 0  0  0  0  0]]\n"
     ]
    }
   ],
   "source": [
    "a = np.array([[1, 0, 0, 3], [0, 1, 0, 5], [0, 0, 1, 2]])\n",
    "b = np.array([[1, 0, 0], [0, 1, 0], [0, 0, 1]])\n",
    "c = np.array([[0, 0, 0], [0, 0, 0]])\n",
    "d = np.array([[1, -1, 3, 0, 2], [0, 0, 0, 1, 3], [0, 0, 0, 0, 0]])\n",
    "\n",
    "print(f\"array A \\n{a}\\n\")\n",
    "print(f\"array B \\n{b}\\n\")\n",
    "print(f\"array C \\n{c}\\n\")\n",
    "print(f\"array D \\n{d}\")"
   ],
   "metadata": {
    "collapsed": false,
    "pycharm": {
     "name": "#%%\n"
    }
   }
  },
  {
   "cell_type": "markdown",
   "source": [
    "## 기본행 연산\n",
    "\n",
    "행렬 $m \\times n = A$을 REF 혹은 RREF로 바꿀 때 사용하는 연산을 기본행 연산이라고 한다.\n",
    "\n",
    "- A의 두 행 $A_i$과 $A_j$를 바꾼다.\n",
    "- A에 0이 아닌 상수 n을 곱한다\n",
    "- $A_i$행을 n배 하여 $A_j$에 더한다.\n",
    "\n",
    "이와 같은 기본행 연산을 통해서 얻어진 행렬 $B$와 기존의 행렬 $A$를 행동치(row equivlent)라고 한다."
   ],
   "metadata": {
    "collapsed": false
   }
  },
  {
   "cell_type": "markdown",
   "source": [
    "### 예제\n",
    "행렬 $\\left[\\begin{matrix}0 & 0& -2 & 0 & 7 & 12 \\\\ 2 & 4 & -10 & 6 & 12 & 28 \\\\ 2 & 4 & -5 & 6 & -5 & -1\\end{matrix}\\right]$\n",
    "에 대해 REF, RREF를 만들어라"
   ],
   "metadata": {
    "collapsed": false,
    "pycharm": {
     "name": "#%% md\n"
    }
   }
  },
  {
   "cell_type": "code",
   "execution_count": 137,
   "outputs": [
    {
     "name": "stdout",
     "output_type": "stream",
     "text": [
      "REF: \n",
      " [[ 1.   2.  -5.   3.   6.  14. ]\n",
      " [-0.  -0.   1.  -0.  -3.5 -6. ]\n",
      " [ 0.   0.   0.   0.   1.   2. ]]\n",
      "RREF: \n",
      " [[1. 2. 0. 3. 0. 7.]\n",
      " [0. 0. 1. 0. 0. 1.]\n",
      " [0. 0. 0. 0. 1. 2.]]\n"
     ]
    }
   ],
   "source": [
    "matrixA = np.array(\n",
    "   [\n",
    "      [0, 0, -2, 0, 7, 12],\n",
    "      [2, 4, -10, 6, 12, 28],\n",
    "      [2, 4, -5, 6, -5, -1]\n",
    "   ],\n",
    "   float\n",
    ")\n",
    "\n",
    "#Step 1. 가장 위에 있는 성분이 다른 행과 같거나 더 많은 행을 가지도록 바꿔준다.\n",
    "matrixA[0], matrixA[1] = matrixA[1], [0, 0, -2, 0, 7, 12]\n",
    "\n",
    "#Step 2. 1행의 선행성분을 1로 만든다.\n",
    "matrixA[0] = matrixA[0] / matrixA[0][0]\n",
    "\n",
    "#Step 3. 선행성분 아래의 모든 성분을 0으로 만든다.\n",
    "matrixA[2] = matrixA[2] - (matrixA[0] * 2)\n",
    "\n",
    "#Step 4. 위의 행동을 반복한다.\n",
    "matrixA[1] = matrixA[1] / -2 #Step 2\n",
    "matrixA[2] = matrixA[2] - (matrixA[1] * 5) #Step 3\n",
    "\n",
    "matrixA[2] = matrixA[2] * 2\n",
    "\n",
    "print(\"REF: \\n\", matrixA) #REF\n",
    "\n",
    "#Step 1.\n",
    "matrixA[1] = matrixA[1] + (matrixA[2] * (7/2))\n",
    "\n",
    "#Step 2.\n",
    "matrixA[0] = matrixA[0] + (matrixA[2] * -6)\n",
    "\n",
    "#Step 3.\n",
    "matrixA[0] = matrixA[0] + (matrixA[1] * 5)\n",
    "\n",
    "print(\"RREF: \\n\", matrixA)"
   ],
   "metadata": {
    "collapsed": false,
    "pycharm": {
     "name": "#%%\n"
    }
   }
  },
  {
   "cell_type": "markdown",
   "source": [
    "또, **첨가행렬이 행동치인 두 선형방정식은 *동치*이다.**\n",
    "즉, **해집합이 *같다.***"
   ],
   "metadata": {
    "collapsed": false,
    "pycharm": {
     "name": "#%% md\n"
    }
   }
  },
  {
   "cell_type": "markdown",
   "source": [
    "## Gauss 소거법의 numpy 활용 계산법\n",
    "\n",
    "방정식을 첨가행렬 형태로 나타내면 numpy를 통해 RDF, RRDF로 만들어 답을 구할 수 있다.\n",
    "\n",
    "**예)**\n",
    "\n",
    "$\\begin{cases}x+y+2x=9 \\\\ 2x+4y-3z=1 \\\\ 3x+6y-5z=0 \\end{cases}$에서 $x$, $y$, $z$를 구하여라."
   ],
   "metadata": {
    "collapsed": false,
    "pycharm": {
     "name": "#%% md\n"
    }
   }
  },
  {
   "cell_type": "code",
   "execution_count": 78,
   "outputs": [
    {
     "name": "stdout",
     "output_type": "stream",
     "text": [
      "initial array\n",
      " [[ 1.  1.  2.  9.]\n",
      " [ 2.  4. -3.  1.]\n",
      " [ 3.  6. -5.  0.]] \n",
      "\n",
      "first calucluated array\n",
      " [[  1.   1.   2.   9.]\n",
      " [  0.   2.  -7. -17.]\n",
      " [  3.   6.  -5.   0.]] \n",
      "\n",
      "second calucluated array\n",
      " [[  1.   1.   2.   9.]\n",
      " [  0.   2.  -7. -17.]\n",
      " [  0.   3. -11. -27.]] \n",
      "\n",
      "third calucluated array \n",
      " [[  1.    1.    2.    9. ]\n",
      " [  0.    1.   -3.5  -8.5]\n",
      " [  0.    3.  -11.  -27. ]] \n",
      "\n",
      "fourth calculated array \n",
      " [[ 1.   1.   2.   9. ]\n",
      " [ 0.   1.  -3.5 -8.5]\n",
      " [ 0.   0.  -0.5 -1.5]] \n",
      "\n",
      "Gauss eliminated array\n",
      " [[ 1.   1.   2.   9. ]\n",
      " [ 0.   1.  -3.5 -8.5]\n",
      " [-0.  -0.   1.   3. ]]\n",
      "\n",
      "thus,\n",
      "z = 3.0\n",
      "y = 2.0\n",
      "x = 1.0\n"
     ]
    }
   ],
   "source": [
    "matrix = np.array([[1, 1, 2, 9], [2, 4 , -3, 1], [3, 6, -5, 0]], float)\n",
    "#(x, y, z) Equations\n",
    "print(\"initial array\\n\", matrix, \"\\n\")\n",
    "\n",
    "matrix[1] = matrix[1] + (matrix[0] * -2)\n",
    "print(\"first calucluated array\\n\", matrix, \"\\n\")\n",
    "\n",
    "matrix[2] =  + matrix[2] + (matrix[0] * -3)\n",
    "print(\"second calucluated array\\n\", matrix, \"\\n\")\n",
    "\n",
    "matrix[1] = matrix[1] * 0.5\n",
    "print(\"third calucluated array \\n\", matrix, \"\\n\")\n",
    "\n",
    "matrix[2] = matrix[2] + (matrix[1] * -3)\n",
    "print(\"fourth calculated array \\n\", matrix, \"\\n\")\n",
    "\n",
    "matrix[2] = matrix[2] * -2\n",
    "print(f\"Gauss eliminated array\\n {matrix}\\n\")\n",
    "\n",
    "print(f\"thus,\\nz = {matrix[2][3]}\")\n",
    "z = 3\n",
    "print(f\"y = {z * 3.5 + matrix[1][3]}\")\n",
    "y = 2\n",
    "print(f\"x = {matrix[0][3] - (matrix[0][2] * z) - matrix[0][1] * y}\")"
   ],
   "metadata": {
    "collapsed": false,
    "pycharm": {
     "name": "#%%\n"
    }
   }
  },
  {
   "cell_type": "markdown",
   "source": [
    "### 예제\n",
    "**다음 선형연립방정식을 Gauss 소거법으로 풀어라**\n",
    "$$\\begin{cases} x+2y+3z = 9 \\\\ 2x - y + z = 8 \\\\ 3x - z = 3 \\end{cases}$$"
   ],
   "metadata": {
    "collapsed": false
   }
  },
  {
   "cell_type": "code",
   "execution_count": 149,
   "outputs": [
    {
     "name": "stdout",
     "output_type": "stream",
     "text": [
      "[[ 1.  2.  3.  9.]\n",
      " [-0.  1.  1.  2.]\n",
      " [-0. -0.  1.  3.]] \n",
      "\n",
      "Answer\n",
      "x= 2.0\n",
      "y= -1.0\n",
      "z= 3.0\n"
     ]
    }
   ],
   "source": [
    "matrix = np.array(\n",
    "   [\n",
    "      [1, 2, 3, 9],\n",
    "      [2, -1, 1, 8],\n",
    "      [3, 0, -1, 3]\n",
    "   ],\n",
    "   float\n",
    ")\n",
    "\n",
    "matrix[1] = matrix[1] - (matrix[0] * 2)\n",
    "matrix[2] = matrix[2] - (matrix[0] * 3)\n",
    "\n",
    "matrix[1] = matrix[1] / -5\n",
    "matrix[2] = matrix[2] + (matrix[1] * 6)\n",
    "\n",
    "matrix[2] = matrix[2] / -4\n",
    "\n",
    "z = matrix[2][3]\n",
    "y = matrix[1][3] - z\n",
    "x = matrix[0][3] - 2 * y - 3 * z\n",
    "print(matrix, \"\\n\\nAnswer\\nx=\", x)\n",
    "print(\"y=\", y)\n",
    "print(\"z=\", z)"
   ],
   "metadata": {
    "collapsed": false,
    "pycharm": {
     "name": "#%%\n"
    }
   }
  },
  {
   "cell_type": "markdown",
   "source": [
    "## Gauss-Jordan 소거법\n",
    "\n",
    "방정식을 첨가행렬 형태로 만든 뒤, RRDF 형태로 변환하여 푸는 방법\n",
    "\n",
    "위의 일반해를 벡터 형태로 나타낼 수 있다."
   ],
   "metadata": {
    "collapsed": false,
    "pycharm": {
     "name": "#%% md\n"
    }
   }
  },
  {
   "cell_type": "code",
   "execution_count": 153,
   "outputs": [
    {
     "name": "stdout",
     "output_type": "stream",
     "text": [
      "[[ 2.]\n",
      " [-1.]\n",
      " [ 3.]]\n"
     ]
    }
   ],
   "source": [
    "vec = np.array(\n",
    "   [\n",
    "      [x],\n",
    "      [y],\n",
    "      [z]\n",
    "   ],\n",
    "   float\n",
    ")\n",
    "\n",
    "print(vec)"
   ],
   "metadata": {
    "collapsed": false,
    "pycharm": {
     "name": "#%%\n"
    }
   }
  },
  {
   "cell_type": "markdown",
   "source": [
    "<img src=\"./static/img/linear4.png\">\n",
    "\n",
    "**용어 정리**\n",
    "\n",
    "- 선행변수: 선행성분 1을 포함하는 열에 대응하는 변수\n",
    "- 자유변수: 선행성분 1을 포함하지 않는 열에 대응하는 변수\n",
    "\n",
    "<img src=\"./static/img/linear5.png\">"
   ],
   "metadata": {
    "collapsed": false,
    "pycharm": {
     "name": "#%% md\n"
    }
   }
  }
 ],
 "metadata": {
  "kernelspec": {
   "display_name": "Python 3",
   "language": "python",
   "name": "python3"
  },
  "language_info": {
   "codemirror_mode": {
    "name": "ipython",
    "version": 2
   },
   "file_extension": ".py",
   "mimetype": "text/x-python",
   "name": "python",
   "nbconvert_exporter": "python",
   "pygments_lexer": "ipython2",
   "version": "2.7.6"
  }
 },
 "nbformat": 4,
 "nbformat_minor": 0
}