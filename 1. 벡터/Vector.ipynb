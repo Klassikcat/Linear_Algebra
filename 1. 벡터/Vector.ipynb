{
 "cells": [
  {
   "cell_type": "markdown",
   "source": [
    "### Dependency"
   ],
   "metadata": {
    "collapsed": false
   }
  },
  {
   "cell_type": "code",
   "execution_count": 2,
   "outputs": [],
   "source": [
    "import numpy as np"
   ],
   "metadata": {
    "collapsed": false,
    "pycharm": {
     "name": "#%%\n"
    }
   }
  },
  {
   "cell_type": "markdown",
   "source": [
    "# Norm\n",
    "``norm, magnitude, lenght는 모두 같은 말``"
   ],
   "metadata": {
    "collapsed": false
   }
  },
  {
   "cell_type": "markdown",
   "source": [
    "벡터 x의 norm: 원점에서 벡터 x 사이의 거리\n",
    "\n",
    "$norm_x = \\sqrt{x^2_1+x^2_2+...+x^2_n}$\n",
    "\n",
    "벡터 x와 y의 norm: 두 벡터 x와 y 사이의 거리\n",
    "\n",
    "$norm_{(x, y)} = \\sqrt{(x_1-y_1)^2+(x_2-y_2)^2+...+(x_n-y_n)^2}$"
   ],
   "metadata": {
    "collapsed": false
   }
  },
  {
   "cell_type": "markdown",
   "source": [
    "### Code"
   ],
   "metadata": {
    "collapsed": false
   }
  },
  {
   "cell_type": "code",
   "execution_count": 3,
   "outputs": [],
   "source": [
    "class Norm:\n",
    "    def __init__(self, x, y=np.array([])):\n",
    "        assert type(x) != None\n",
    "        self.x = x\n",
    "        self.y = y\n",
    "\n",
    "    def one_norm(self, x):\n",
    "        x_new = []\n",
    "        for i in x:\n",
    "            x_new.append(i**2)\n",
    "        return sum(np.array(x_new))**(1/2)\n",
    "\n",
    "    def two_norm(self, x, y):\n",
    "        x_new = []\n",
    "        for i, j in zip(x, y):\n",
    "            x_new.append((i - j)**2)\n",
    "\n",
    "        x_new = sum(np.array(x_new))\n",
    "        return x_new**(1/2)\n",
    "\n",
    "    def call(self):\n",
    "        if self.y.size > 0:\n",
    "            return self.two_norm(self.x, self.y)\n",
    "        else:\n",
    "            return self.one_norm(self.x)"
   ],
   "metadata": {
    "collapsed": false,
    "pycharm": {
     "name": "#%%\n"
    }
   }
  },
  {
   "cell_type": "markdown",
   "source": [
    "### 예제\n",
    "$R^4$의 벡터 $ x = (2, -1, 3, 2), y = (3, 2, 1, -4)$에 대하여 각 벡터의 원점에 대한 norm과 x와 y에 대한 norm을 구하여라"
   ],
   "metadata": {
    "collapsed": false
   }
  },
  {
   "cell_type": "code",
   "execution_count": 4,
   "outputs": [
    {
     "name": "stdout",
     "output_type": "stream",
     "text": [
      "x의 원점에 대한 norm: 4.242640687119285\n",
      "y의 원점에 대한 norm 5.477225575051661\n",
      "x와 y의 norm: 7.0710678118654755\n"
     ]
    }
   ],
   "source": [
    "x = np.array([2, -1, 3, 2])\n",
    "y = np.array([3, 2, 1, -4])\n",
    "\n",
    "answer_1 = Norm(x).call()\n",
    "answer_2 = Norm(y).call()\n",
    "answer_3 = Norm(x, y).call()\n",
    "\n",
    "print(f\"x의 원점에 대한 norm: {answer_1}\\ny의 원점에 대한 norm {answer_2}\\nx와 y의 norm: {answer_3}\")"
   ],
   "metadata": {
    "collapsed": false,
    "pycharm": {
     "name": "#%%\n"
    }
   }
  },
  {
   "cell_type": "markdown",
   "source": [
    "# 벡터의 내적"
   ],
   "metadata": {
    "collapsed": false
   }
  },
  {
   "cell_type": "markdown",
   "source": [
    "$R^n$에 대한 벡터 $x = (x_1, x_2, ..., x_n)$, $y = (y_1, y_2, ..., y_n)$에서,\n",
    "\n",
    "실수 $x_1y_1 + x_2y_2 + ... + x_ny_n$을 벡터의 내적이라고 하고 $x \\cdot y$로 표기한다.\n",
    "\n",
    "즉, 벡터 x를 벡터 y에 수선의 발을 내려 정사형한 것이 바로 내적이다.\n",
    "\n",
    "<img src=\"https://t1.daumcdn.net/cfile/tistory/99DCB1335A17C80723\">"
   ],
   "metadata": {
    "collapsed": false
   }
  },
  {
   "cell_type": "code",
   "execution_count": 5,
   "outputs": [],
   "source": [
    "def inner_product(x, y):\n",
    "    a = 0\n",
    "    for i, j in zip(x, y):\n",
    "        a += i * j\n",
    "    return a"
   ],
   "metadata": {
    "collapsed": false,
    "pycharm": {
     "name": "#%%\n"
    }
   }
  },
  {
   "cell_type": "code",
   "execution_count": 6,
   "outputs": [
    {
     "name": "stdout",
     "output_type": "stream",
     "text": [
      "x, y의 내적: 14\n",
      "x와 x의 내적: 84\n",
      "x와 x의 내적이 x의 norm의 제곱인가?: True\n"
     ]
    }
   ],
   "source": [
    "x = np.array([1, 3, 5, 7])\n",
    "y = np.array([1, -2, 1, 2])\n",
    "\n",
    "norm_x = Norm(x).call()\n",
    "res = inner_product(x, y)\n",
    "res_2 = inner_product(x, x)\n",
    "print(f\"x, y의 내적: {res}\\nx와 x의 내적: {res_2}\")\n",
    "print(f\"x와 x의 내적이 x의 norm의 제곱인가?: {round(norm_x**2) == res_2}\") #calculting floating number has some error, round() method can partically fix that."
   ],
   "metadata": {
    "collapsed": false,
    "pycharm": {
     "name": "#%%\n"
    }
   }
  },
  {
   "cell_type": "markdown",
   "source": [
    "# 코시-슈바르츠 부등식"
   ],
   "metadata": {
    "collapsed": false
   }
  },
  {
   "cell_type": "markdown",
   "source": [
    "$R^n$의 임의의 벡터 x, y 중 하나가 다른 것의 실수배일 때, $|x\\cdot y| ≤ ||x|| \\cdot ||y||$이 성립한다.\n",
    "\n",
    "즉, x, y가 영벡터가 아니면 $-1\\leq\\frac{||x|| \\cdot ||y||}{|x\\cdot y|}\\leq1$ 이므로,\n",
    "\n",
    "$x\\cdot y = ||x|| \\cdot ||y|| \\ \\cos\\theta$를 만족하는 값 $\\theta$는 $\\pi\\leq\\cos\\theta\\leq\\pi$에 있다.\n",
    "\n",
    "즉, $0\\leq\\theta\\leq\\pi$의 범위 내에 있다.\n",
    "\n",
    "여기서 $\\theta$를 x와 y가 이루는 각(사잇각, angle)이라고 한다."
   ],
   "metadata": {
    "collapsed": false
   }
  },
  {
   "cell_type": "markdown",
   "source": [
    "# 직교와 평행"
   ],
   "metadata": {
    "collapsed": false
   }
  },
  {
   "cell_type": "markdown",
   "source": [
    "x•y = 0일 때, x와 y는 직교한다. x•y는 x와 y의 내적인데, 한 벡터의 $\\cos\\theta$가 90이면 두 벡터의 방향이 완전히 일치하지 않기 때문."
   ],
   "metadata": {
    "collapsed": false
   }
  },
  {
   "cell_type": "code",
   "execution_count": 7,
   "outputs": [
    {
     "name": "stdout",
     "output_type": "stream",
     "text": [
      "직교하는가?: True\n"
     ]
    }
   ],
   "source": [
    "x = np.array([1, 0, 1, 1])\n",
    "y = np.array([-1, 0, 0, 1])\n",
    "\n",
    "print(f\"직교하는가?: {inner_product(x, y)==0}\")"
   ],
   "metadata": {
    "collapsed": false,
    "pycharm": {
     "name": "#%%\n"
    }
   }
  },
  {
   "cell_type": "markdown",
   "source": [
    "# Linear Equation"
   ],
   "metadata": {
    "collapsed": false
   }
  },
  {
   "cell_type": "markdown",
   "source": [
    "벡터 $\\vec{v} = (a, b, c)$이고, 지나는 점의 좌표 $(x, y, z) = p$라고 했을 때,\n",
    "\n",
    "### 벡터방정식\n",
    "\n",
    "$p = p_0+t\\vec{v}$\n",
    "\n",
    "$= (x, y, z) + t(a, b, c)$\n",
    "\n",
    "### 매개방정식\n",
    "$x = x_0 + ta$\n",
    "\n",
    "$y = y_0 + tb$\n",
    "\n",
    "$z = z_0 + tc$\n",
    "\n",
    "### 대칭방정식\n",
    "\n",
    "$$\\frac{x - x_0}{a} = \\frac{y - y_0}{b} = \\frac{z - z_0}{c} = t$$"
   ],
   "metadata": {
    "collapsed": false
   }
  },
  {
   "cell_type": "markdown",
   "source": [
    "### Code"
   ],
   "metadata": {
    "collapsed": false
   }
  },
  {
   "cell_type": "code",
   "execution_count": 8,
   "outputs": [],
   "source": [
    "class LinearEquation:\n",
    "    def __init__(self, vector=np.array, coordinate=np.array, origin=np.array):\n",
    "        self.t = (coordinate[0] - origin[0])/vector[0]\n",
    "        self.parametric_eq = []\n",
    "\n",
    "        self.vector_eq = coordinate + self.t * vector\n",
    "        self.parametric_eq += [i + self.t * j for i, j in zip(coordinate, vector)]\n",
    "\n",
    "    def print_eqs(self):\n",
    "        print(self.vector_eq)\n",
    "        print(self. parametric_eq)\n",
    "        print(self.t)"
   ],
   "metadata": {
    "collapsed": false,
    "pycharm": {
     "name": "#%%\n"
    }
   }
  },
  {
   "cell_type": "code",
   "execution_count": 9,
   "outputs": [
    {
     "name": "stdout",
     "output_type": "stream",
     "text": [
      "[ 7.  4. 11.]\n",
      "[7.0, 4.0, 11.0]\n",
      "1.0\n"
     ]
    }
   ],
   "source": [
    "LinearEquation(vector=np.array([3, 2, 7]), coordinate=np.array([4, 2, 4]), origin=[1, 2, 3]).print_eqs()"
   ],
   "metadata": {
    "collapsed": false,
    "pycharm": {
     "name": "#%%\n"
    }
   }
  },
  {
   "cell_type": "markdown",
   "source": [
    "## Point-normal Vector"
   ],
   "metadata": {
    "collapsed": false
   }
  },
  {
   "cell_type": "markdown",
   "source": [
    "3차원 공간($R^3$)에서 한 점 $P_0$을 지나고 0이 아닌 법선벡터 n = (a, b, c)과 직교하는 벡터들이 이루는 평면 $\\pi$는 $n\\times\\vec{P_0P} = 0$을 만족하는 점의 전체 집합과 같다. 즉,\n",
    "\n",
    "$(a, b, c) \\times (x - x_0, y - y_0, z-z_0) = 0$을 만족하는 점의 집합이다. 즉, 평면의 point-normal 방정식은 다음과 같다.\n",
    "\n",
    "$$ ax + by + cz = d $$\n",
    "$$(d = ax_0 + by_0 + cz_0)$$"
   ],
   "metadata": {
    "collapsed": false
   }
  },
  {
   "cell_type": "markdown",
   "source": [
    "### Code"
   ],
   "metadata": {
    "collapsed": false
   }
  },
  {
   "cell_type": "code",
   "execution_count": 10,
   "outputs": [],
   "source": [
    "def point_normal(vector=np.array, coordinate=np.array):\n",
    "    cal = 0\n",
    "    for i, j in zip(vector, coordinate):\n",
    "        cal += i * j\n",
    "    return f\"{cal}t\""
   ],
   "metadata": {
    "collapsed": false,
    "pycharm": {
     "name": "#%%\n"
    }
   }
  },
  {
   "cell_type": "code",
   "execution_count": 11,
   "outputs": [
    {
     "data": {
      "text/plain": "'61t'"
     },
     "execution_count": 11,
     "metadata": {},
     "output_type": "execute_result"
    }
   ],
   "source": [
    "px = point_normal(vector=[3, 6, 4], coordinate=[5, 3, 7])\n",
    "px"
   ],
   "metadata": {
    "collapsed": false,
    "pycharm": {
     "name": "#%%\n"
    }
   }
  },
  {
   "cell_type": "markdown",
   "source": [
    "# 일반적인 평면의 방정식(vector equation of the plane)"
   ],
   "metadata": {
    "collapsed": false
   }
  },
  {
   "cell_type": "markdown",
   "source": [
    "평면 W위의 한 점 $x_0$과 W 위의 상수배가 아닌 두 벡터 $v_1$과 $v_2$가 있다면, 이 평면 $W$를 벡터방정식, 매개방정식으로 표현할 수 있다."
   ],
   "metadata": {
    "collapsed": false
   }
  },
  {
   "cell_type": "markdown",
   "source": [
    "### 벡터방정식"
   ],
   "metadata": {
    "collapsed": false
   }
  },
  {
   "cell_type": "markdown",
   "source": [
    "$$X-X_0 = t_1\\vec{v_1} + t_2\\vec{v_2}$$\n",
    "$$X = X_0 + t_1\\vec{v_1} + t_2\\vec{v_2}$$"
   ],
   "metadata": {
    "collapsed": false
   }
  },
  {
   "cell_type": "markdown",
   "source": [
    "### 매개방정식"
   ],
   "metadata": {
    "collapsed": false
   }
  },
  {
   "cell_type": "markdown",
   "source": [
    "$X = (x, y, z), X_0 = (x_0, y_0, z_0), \\vec{V_1} = (a_1, b_1, c_1), \\vec{V_2} = (a_2, b_2, c_2)$일 때,\n",
    "\n",
    "$$(x, y, z) = (x_0, y_0, z_0) + t_1(a_1, b_1, c_1) + t_2(a_2, b_2, c_2)$$\n",
    "\n",
    "또는\n",
    "\n",
    "$$ x = x_0 + a_1t_1 + a_2t_2$$\n",
    "$$ y = y_0 + b_1t_1 + b_2t_2$$\n",
    "$$ z = z_0 + c_1t_1 + c_2t_2$$"
   ],
   "metadata": {
    "collapsed": false
   }
  },
  {
   "cell_type": "markdown",
   "source": [
    "### Code"
   ],
   "metadata": {
    "collapsed": false
   }
  },
  {
   "cell_type": "code",
   "execution_count": 12,
   "outputs": [],
   "source": [
    "class vec_eq_of_plane:\n",
    "    def __init__(self, P=np.array, Q=np.array, R=np.array):\n",
    "        self.vec_eq = f\"{P} + t1{Q - P} + t2{R - Q}\"\n",
    "        self.parametic_eq = []\n",
    "\n",
    "        self.P = P\n",
    "        self.Q = Q\n",
    "        self.R = R\n",
    "\n",
    "    def parametic_eq_cal(self):\n",
    "        for i, j, k in zip(self.P, self.Q, self.R):\n",
    "            self.parametic_eq += [f\"{i} + {j - i}_t1 + {k - i}_t2\"]\n",
    "\n",
    "    def printf(self):\n",
    "        parametic_eq = self.parametic_eq_cal()\n",
    "        print(f\"벡터방정식: {self.vec_eq}\\n매개방정식: {self.parametic_eq}\")\n"
   ],
   "metadata": {
    "collapsed": false,
    "pycharm": {
     "name": "#%%\n"
    }
   }
  },
  {
   "cell_type": "code",
   "execution_count": 13,
   "outputs": [
    {
     "name": "stdout",
     "output_type": "stream",
     "text": [
      "벡터방정식: [ 4 -3  1] + t1[ 2 -1  6] + t2[-5  6 -5]\n",
      "매개방정식: ['4 + 2_t1 + -3_t2', '-3 + -1_t1 + 5_t2', '1 + 6_t1 + 1_t2']\n"
     ]
    }
   ],
   "source": [
    "exm = vec_eq_of_plane(P=np.array([4, -3, 1]), Q=np.array([6, -4, 7]), R=np.array([1, 2, 2]))\n",
    "exm.printf()"
   ],
   "metadata": {
    "collapsed": false,
    "pycharm": {
     "name": "#%%\n"
    }
   }
  },
  {
   "cell_type": "markdown",
   "source": [
    "# Projection(정사영)"
   ],
   "metadata": {
    "collapsed": false
   }
  },
  {
   "cell_type": "markdown",
   "source": [
    "벡터 $X = \\vec{OQ}, Y=\\vec{OP}$가 3차원 공간에 있고, X가 0이 아니며, 점 P에서 $\\vec{OQ}$에\n",
    "내린 수선의 발을 S라고 하자. 이때 벡터 $p = \\vec{OS}$를 x 위로의 y의 정사영(Projection)이라고 한다.\n",
    "이는 다음과 같은 기호로 표시된다.\n",
    "\n",
    "$$Proj_xY$$\n",
    "\n",
    "또한 벡터 w를 $\\vec{SP}$라고 할 때, $w = Y - p$를 x에 수직인 y의 벡터성분이라 하며, 벡터성분 Y는\n",
    "$Y = w + p$로 표시할 수 있다.\n",
    "\n",
    "또한, p는 x 위로의 y의 정사형이기 때문에 p와 x는 평행한다. 즉, p는 x에 스칼라값 t를 곱해준 꼴이다.\n",
    "이를 통해 다음과 같은 식으로 t값을 구해줄 수 있다.\n",
    "\n",
    "$$t = \\frac{y\\cdot x}{||x^2||}$$"
   ],
   "metadata": {
    "collapsed": false
   }
  },
  {
   "cell_type": "markdown",
   "source": [
    "### Code"
   ],
   "metadata": {
    "collapsed": false
   }
  },
  {
   "cell_type": "code",
   "execution_count": 14,
   "outputs": [],
   "source": [
    "class Proj:\n",
    "    def __init__(self, x=np.array, y=np.array):\n",
    "        self.projection = inner_product(y, x)/inner_product(x, x) * x\n",
    "        self.w = y - self.projection\n",
    "        self.x = x\n",
    "        self.y = y\n",
    "\n",
    "    def printf(self):\n",
    "        print(f\"정사영: {self.projection}\")\n",
    "        print(f\"w값: {self.w}\")"
   ],
   "metadata": {
    "collapsed": false,
    "pycharm": {
     "name": "#%%\n"
    }
   }
  },
  {
   "cell_type": "markdown",
   "source": [
    "### 예제"
   ],
   "metadata": {
    "collapsed": false
   }
  },
  {
   "cell_type": "markdown",
   "source": [
    "x = (2, -1, 3), y=(4, -1, 2)일 때 $Proj_xy$와 x에 수직인 y의 벡터성분 w를 구하라."
   ],
   "metadata": {
    "collapsed": false
   }
  },
  {
   "cell_type": "code",
   "execution_count": 15,
   "outputs": [
    {
     "name": "stdout",
     "output_type": "stream",
     "text": [
      "정사영: [ 2.14285714 -1.07142857  3.21428571]\n",
      "w값: [ 1.85714286  0.07142857 -1.21428571]\n"
     ]
    }
   ],
   "source": [
    "Proj(x=np.array([2, -1, 3]), y=np.array([4, -1, 2])).printf()"
   ],
   "metadata": {
    "collapsed": false,
    "pycharm": {
     "name": "#%%\n"
    }
   }
  },
  {
   "cell_type": "markdown",
   "source": [
    "# 점과 평면 사이의 거리"
   ],
   "metadata": {
    "collapsed": false
   }
  },
  {
   "cell_type": "markdown",
   "source": [
    "점 $P_0 = (x_0, y_0, z_0)$과 평면 $\\pi = ax + by+ cz + d$ 사이의 거리 D는 다음과 같이 계산한다.\n",
    "\n",
    "$$\\frac{|ax_0+by_0+cz_0+d|}{\\sqrt{a^2+b^2+c^2}}$$"
   ],
   "metadata": {
    "collapsed": false
   }
  },
  {
   "cell_type": "markdown",
   "source": [
    "Code"
   ],
   "metadata": {
    "collapsed": false
   }
  },
  {
   "cell_type": "code",
   "execution_count": 16,
   "outputs": [],
   "source": [
    "class Distance:\n",
    "    def __init__(self, p=np.array, pi=np.array, d=int):\n",
    "        self.inner_prod = inner_product(p, pi)\n",
    "        self.norm = inner_product(pi, pi)\n",
    "        self.dist = abs(self.inner_prod + d)/self.norm\n",
    "\n",
    "        self.p = p\n",
    "        self.pi = pi\n",
    "        self.d = d\n",
    "\n",
    "    def proj(self):\n",
    "        preprocess = self.dist * self.pi\n",
    "        proj = []\n",
    "        for i in preprocess:\n",
    "            proj += [i**2]\n",
    "        proj = np.array(sum(proj))**(1/2)\n",
    "        return proj\n",
    "\n",
    "    def proj_easy(self):\n",
    "        numerator = 0\n",
    "        denominator = 0\n",
    "        for i, j in zip(self.p, self.pi):\n",
    "            numerator += i * j\n",
    "            denominator += j ** 2\n",
    "        numerator += self.d\n",
    "        return abs(numerator) / (denominator**(1/2))\n",
    "\n",
    "    def printf(self):\n",
    "        proj = self.proj()\n",
    "        proj_easy = self.proj_easy()\n",
    "        print(f\"distance: {proj}\")\n",
    "        print(f\"공식 사용 답: {proj_easy}\")"
   ],
   "metadata": {
    "collapsed": false,
    "pycharm": {
     "name": "#%%\n"
    }
   }
  },
  {
   "cell_type": "markdown",
   "source": [
    "### 예제"
   ],
   "metadata": {
    "collapsed": false
   }
  },
  {
   "cell_type": "markdown",
   "source": [
    "점 P(3, -1, 2)에서 평면 x + 3y - 2z - 6 = 0에 이르는 거리 D를 구하라"
   ],
   "metadata": {
    "collapsed": false
   }
  },
  {
   "cell_type": "code",
   "execution_count": 17,
   "outputs": [
    {
     "name": "stdout",
     "output_type": "stream",
     "text": [
      "distance: 2.6726124191242437\n",
      "공식 사용 답: 2.6726124191242437\n"
     ]
    }
   ],
   "source": [
    "Distance(p=np.array([3, -1, 2]), pi=np.array([1, 3, -2]), d=-6).printf()"
   ],
   "metadata": {
    "collapsed": false,
    "pycharm": {
     "name": "#%%\n"
    }
   }
  }
 ],
 "metadata": {
  "kernelspec": {
   "display_name": "Python 3",
   "language": "python",
   "name": "python3"
  },
  "language_info": {
   "codemirror_mode": {
    "name": "ipython",
    "version": 2
   },
   "file_extension": ".py",
   "mimetype": "text/x-python",
   "name": "python",
   "nbconvert_exporter": "python",
   "pygments_lexer": "ipython2",
   "version": "2.7.6"
  }
 },
 "nbformat": 4,
 "nbformat_minor": 0
}